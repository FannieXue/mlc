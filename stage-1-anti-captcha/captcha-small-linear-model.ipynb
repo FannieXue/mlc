{
 "cells": [
  {
   "cell_type": "markdown",
   "metadata": {},
   "source": [
    "## Have fun with linear model\n",
    "\n",
    "Author: hdup  \n",
    "My contact info:  \n",
    "hdup [huangdan@youhujia.com](mailto:huangdan@youhujia.com)  \n",
    "evitself [evitself@gmail.com](mailto:evitself@gmail.com)"
   ]
  },
  {
   "cell_type": "code",
   "execution_count": 1,
   "metadata": {
    "collapsed": true
   },
   "outputs": [],
   "source": [
    "import os\n",
    "import numpy as np\n",
    "import cv2\n",
    "import matplotlib.pyplot as plt\n",
    "import utils\n",
    "\n",
    "%matplotlib inline"
   ]
  },
  {
   "cell_type": "markdown",
   "metadata": {},
   "source": [
    "### Let's play with linear regression"
   ]
  },
  {
   "cell_type": "markdown",
   "metadata": {},
   "source": [
    "#### Prepare sample data"
   ]
  },
  {
   "cell_type": "code",
   "execution_count": 2,
   "metadata": {},
   "outputs": [
    {
     "name": "stdout",
     "output_type": "stream",
     "text": [
      "(100, 1)\n"
     ]
    }
   ],
   "source": [
    "sample_cnt = 100\n",
    "\n",
    "train_X = np.linspace(-3.0, 3.0, num=sample_cnt, dtype=np.float32).reshape((sample_cnt, 1))\n",
    "train_y = train_X * 0.375 + 1.1\n",
    "\n",
    "print(train_X.shape)"
   ]
  },
  {
   "cell_type": "markdown",
   "metadata": {},
   "source": [
    "### Implement with numpy"
   ]
  },
  {
   "cell_type": "markdown",
   "metadata": {},
   "source": [
    "#### 1), define model, cost, and derivative"
   ]
  },
  {
   "cell_type": "code",
   "execution_count": 3,
   "metadata": {
    "collapsed": true
   },
   "outputs": [],
   "source": [
    "def linear_model(X, W, b):\n",
    "    return X * W + b\n",
    "\n",
    "def mse_cost(h, y):\n",
    "    diff = h - y\n",
    "    return (diff * diff).sum() / (2 * sample_cnt)\n",
    "\n",
    "def mse_cost_dev(X, y, h):\n",
    "    diff = h - y\n",
    "    return ((diff * X).sum() / sample_cnt), (diff.sum() / sample_cnt)\n",
    "\n",
    "def gd_update(X, y, h, W, b, lr=0.01):\n",
    "    d_W, d_b = mse_cost_dev(X, y, h)\n",
    "    return (W - lr * d_W), (b - lr * d_b)"
   ]
  },
  {
   "cell_type": "markdown",
   "metadata": {},
   "source": [
    "#### 2), training"
   ]
  },
  {
   "cell_type": "code",
   "execution_count": 4,
   "metadata": {},
   "outputs": [
    {
     "name": "stdout",
     "output_type": "stream",
     "text": [
      "epoch: 100, cost:0.9175093078613281, W:0.35255202790046836, b:-0.24048244631202925\n",
      "epoch: 200, cost:0.12281928062438965, W:0.373997218652021, b:0.6093400829085519\n",
      "epoch: 300, cost:0.01645507097244263, W:0.3749552041485421, b:0.9204026172408274\n",
      "epoch: 400, cost:0.0022046416997909546, W:0.3749979981004708, b:1.034261567808072\n",
      "epoch: 500, cost:0.0002953777648508549, W:0.3749999103389199, b:1.0759376230963873\n",
      "epoch: 600, cost:3.9574629627168176e-05, W:0.3749999873803448, b:1.091192404795568\n",
      "epoch: 700, cost:5.302216741256416e-06, W:0.37499999101660075, b:1.0967761542328993\n",
      "epoch: 800, cost:7.104062387952581e-07, W:0.37499999313033033, b:1.0988199820288815\n",
      "epoch: 900, cost:9.518145816400647e-08, W:0.37499999567385345, b:1.099568088484685\n",
      "epoch: 1000, cost:1.2758505363308359e-08, W:0.3749999999676811, b:1.099841923857611\n",
      "training finished!\n",
      "final cost: 1.2492926089180401e-08, W: 0.3749999999676811, b: 1.099841923857611\n"
     ]
    },
    {
     "data": {
      "image/png": "[encoded data removed]",
      "text/plain": [
       "<matplotlib.figure.Figure at 0x107294588>"
      ]
     },
     "metadata": {},
     "output_type": "display_data"
    }
   ],
   "source": [
    "W = np.random.randn()\n",
    "b = np.random.randn()\n",
    "\n",
    "# batch learning\n",
    "for epoch in range(0, 1000):\n",
    "    h = linear_model(train_X, W, b)\n",
    "    W, b = gd_update(train_X, train_y, h, W, b, lr=0.01)\n",
    "    if (epoch + 1) % 100 == 0:\n",
    "        cur_cost = mse_cost(h, train_y)\n",
    "        print('epoch: {0}, cost:{1}, W:{2}, b:{3}'.format(epoch + 1, cur_cost, W, b))\n",
    "\n",
    "# finish\n",
    "predictions = linear_model(train_X, W, b)\n",
    "final_cost = mse_cost(predictions, train_y)\n",
    "print('training finished!')\n",
    "print('final cost: {0}, W: {1}, b: {2}'.format(final_cost, W, b))\n",
    "\n",
    "# then plot some curves\n",
    "plt.plot(train_X, train_y, 'r+', label='training')\n",
    "plt.plot(train_X, predictions, 'b--', label='fitted')\n",
    "plt.grid(True)\n",
    "plt.legend()\n",
    "plt.show()"
   ]
  },
  {
   "cell_type": "markdown",
   "metadata": {},
   "source": [
    "### Logistic regression (generalized linear model) with numpy"
   ]
  },
  {
   "cell_type": "markdown",
   "metadata": {},
   "source": [
    "#### 1), define model, cost, and derivative"
   ]
  },
  {
   "cell_type": "code",
   "execution_count": 5,
   "metadata": {
    "collapsed": true
   },
   "outputs": [],
   "source": [
    "epsilon = 0.0000001\n",
    "\n",
    "def sigmoid(g):\n",
    "    return 1.0 / (1.0 + np.exp(-g))\n",
    "\n",
    "def logistic_model(X, W, b):\n",
    "    return sigmoid(linear_model(X, W, b))\n",
    "\n",
    "def log_cost(h, y):\n",
    "    return -(y * np.log(h + epsilon) + (1.0 - y) * np.log(1.0 - h + epsilon)).sum(axis=0) / sample_cnt\n",
    "\n",
    "def log_cost_dev(X, y, h):\n",
    "    diff = h - y\n",
    "    return ((diff * X).sum(axis=0) / sample_cnt), (diff.sum(axis=0) / sample_cnt)\n",
    "\n",
    "def gd_update(X, y, h, W, b, lr=0.01):\n",
    "    d_W, d_b = log_cost_dev(X, y, h)\n",
    "    return (W - lr * d_W), (b - lr * d_b)\n",
    "\n",
    "def binary_accuracy(h, y, threshold=0.5):\n",
    "    right_cnt = 0\n",
    "    for cid in range(0, sample_cnt):\n",
    "        if (y[cid][0] > 0.5) == (h[cid][0] > threshold):\n",
    "            right_cnt += 1\n",
    "    return right_cnt / sample_cnt"
   ]
  },
  {
   "cell_type": "markdown",
   "metadata": {},
   "source": [
    "#### 2), prepare label data"
   ]
  },
  {
   "cell_type": "code",
   "execution_count": 6,
   "metadata": {
    "collapsed": true
   },
   "outputs": [],
   "source": [
    "train_y_binary = np.array([1.0 if i > 0.5 else 0 for i in train_y]).reshape(sample_cnt, 1)"
   ]
  },
  {
   "cell_type": "markdown",
   "metadata": {},
   "source": [
    "#### 3), training"
   ]
  },
  {
   "cell_type": "code",
   "execution_count": 7,
   "metadata": {},
   "outputs": [
    {
     "name": "stdout",
     "output_type": "stream",
     "text": [
      "epoch: 1000, cost: [ 0.05622609], W: [ 4.85111008], b: [ 7.48975358], acc: 0.99\n",
      "epoch: 2000, cost: [ 0.04431237], W: [ 6.13215958], b: [ 9.54022416], acc: 1.0\n",
      "epoch: 3000, cost: [ 0.03856672], W: [ 7.03027131], b: [ 10.97105599], acc: 1.0\n",
      "epoch: 4000, cost: [ 0.03495118], W: [ 7.74501926], b: [ 12.10717536], acc: 1.0\n",
      "epoch: 5000, cost: [ 0.03238176], W: [ 8.34854971], b: [ 13.06518562], acc: 1.0\n",
      "epoch: 6000, cost: [ 0.03042219], W: [ 8.87614193], b: [ 13.90186682], acc: 1.0\n",
      "epoch: 7000, cost: [ 0.02885694], W: [ 9.34799733], b: [ 14.64964126], acc: 1.0\n",
      "epoch: 8000, cost: [ 0.02756504], W: [ 9.77688946], b: [ 15.32896837], acc: 1.0\n",
      "epoch: 9000, cost: [ 0.02647243], W: [ 10.17146872], b: [ 15.95368212], acc: 1.0\n",
      "epoch: 10000, cost: [ 0.02553074], W: [ 10.53789649], b: [ 16.53362389], acc: 1.0\n",
      "training finished!\n",
      "final cost: [ 0.02552986], W: [ 10.53789649], b: [ 16.53362389], acc: 1.0\n"
     ]
    },
    {
     "data": {
      "image/png": "[encoded data removed]",
      "text/plain": [
       "<matplotlib.figure.Figure at 0x1072e5320>"
      ]
     },
     "metadata": {},
     "output_type": "display_data"
    }
   ],
   "source": [
    "W = np.random.randn()\n",
    "b = np.random.randn()\n",
    "\n",
    "threshold = 0.5\n",
    "\n",
    "# batch learning\n",
    "for epoch in range(0, 10000):\n",
    "    h = logistic_model(train_X, W, b)\n",
    "    W, b = gd_update(train_X, train_y_binary, h, W, b, lr=0.5)\n",
    "    if (epoch + 1) % 1000 == 0:\n",
    "        cur_cost = log_cost(h, train_y_binary)\n",
    "        acc = binary_accuracy(h, train_y_binary, threshold=threshold)\n",
    "        print('epoch: {0}, cost: {1}, W: {2}, b: {3}, acc: {4}'.format(epoch + 1, cur_cost, W, b, acc))\n",
    "\n",
    "# finish\n",
    "predictions = logistic_model(train_X, W, b)\n",
    "final_cost = log_cost(predictions, train_y_binary)\n",
    "final_acc = binary_accuracy(predictions, train_y_binary, threshold=threshold)\n",
    "print('training finished!')\n",
    "print('final cost: {0}, W: {1}, b: {2}, acc: {3}'.format(final_cost, W, b, final_acc))\n",
    "\n",
    "# then plot some curves\n",
    "plt.plot(train_X, train_y_binary, 'r-', label='training')\n",
    "plt.plot(train_X, predictions, 'b-', label='fitted')\n",
    "plt.axhline(y=threshold, color='g', linestyle='-', label='threshold')\n",
    "plt.grid(True)\n",
    "plt.ylim([-0.2, 1.2])\n",
    "plt.legend()\n",
    "plt.show()"
   ]
  },
  {
   "cell_type": "markdown",
   "metadata": {
    "collapsed": true
   },
   "source": [
    "### Time to have fun with cracking captcha with LR model"
   ]
  },
  {
   "cell_type": "markdown",
   "metadata": {},
   "source": [
    "#### 1), load and prepare data"
   ]
  },
  {
   "cell_type": "code",
   "execution_count": 8,
   "metadata": {
    "collapsed": true
   },
   "outputs": [],
   "source": [
    "from utils import corpus, corpus_len, show_img, prepare_data, one_hot_to_label, showcase"
   ]
  },
  {
   "cell_type": "code",
   "execution_count": 9,
   "metadata": {},
   "outputs": [
    {
     "name": "stdout",
     "output_type": "stream",
     "text": [
      "shape X (100000, 30, 30), y (100000, 26)\n",
      "shape X (20000, 30, 30), y (20000, 26)\n",
      "shape X (10000, 30, 30), y (10000, 26)\n"
     ]
    }
   ],
   "source": [
    "train_data = np.load('./data.npz')\n",
    "train_X=train_data['X']\n",
    "train_y=train_data['y']\n",
    "# take first 10000 samples\n",
    "#train_X = train_X[0:10000,:]\n",
    "#train_y = train_y[0:10000,:]\n",
    "print('shape X {0}, y {1}'.format(train_X.shape, train_y.shape))\n",
    "\n",
    "validate_data = np.load('./val.npz')\n",
    "validate_X=validate_data['X']\n",
    "validate_y=validate_data['y']\n",
    "print('shape X {0}, y {1}'.format(validate_X.shape, validate_y.shape))\n",
    "\n",
    "test_data = np.load('./test.npz')\n",
    "test_X=test_data['X']\n",
    "test_y=test_data['y']\n",
    "print('shape X {0}, y {1}'.format(test_X.shape, test_y.shape))\n",
    "\n",
    "train_X, train_y = prepare_data(train_X, train_y)\n",
    "validate_X, validate_y = prepare_data(validate_X, validate_y)\n",
    "test_X, test_y = prepare_data(test_X, test_y)"
   ]
  },
  {
   "cell_type": "markdown",
   "metadata": {},
   "source": [
    "#### 2), let's take character A as example\n",
    "\n",
    "You should know one-vs-all"
   ]
  },
  {
   "cell_type": "code",
   "execution_count": 10,
   "metadata": {},
   "outputs": [
    {
     "name": "stdout",
     "output_type": "stream",
     "text": [
      "(100000, 900)\n",
      "(100000, 1)\n"
     ]
    }
   ],
   "source": [
    "sample_cnt = train_X.shape[0]\n",
    "feature_cnt = train_X.shape[1] * train_X.shape[2]\n",
    "\n",
    "train_X_a = train_X.reshape((sample_cnt, feature_cnt))\n",
    "validate_X_a = validate_X.reshape((validate_X.shape[0], feature_cnt))\n",
    "test_X_a = test_X.reshape((test_X.shape[0], feature_cnt))\n",
    "\n",
    "train_y_a = train_y[:,0:1]\n",
    "validate_y_a = validate_y[:,0:1]\n",
    "test_y_a = test_y[:,0:1]\n",
    "\n",
    "print(train_X_a.shape)\n",
    "print(train_y_a.shape)"
   ]
  },
  {
   "cell_type": "code",
   "execution_count": 11,
   "metadata": {},
   "outputs": [],
   "source": [
    "# redefine linear model to support matrix\n",
    "epsilon = 0.0000001\n",
    "\n",
    "def linear_model(X, W, b):\n",
    "    return np.matmul(X, W) + b\n",
    "\n",
    "def sigmoid_stable(x):\n",
    "    if x >= 0:\n",
    "        z = np.exp(-x)\n",
    "        return 1.0 / (1.0 + z)\n",
    "    else:\n",
    "        z = np.exp(x)\n",
    "        return z / (1.0 + z)\n",
    "\n",
    "def sigmoid(g):\n",
    "    return np.vectorize(sigmoid_stable, otypes=[np.float32])(g)\n",
    "\n",
    "def logistic_model(X, W, b):\n",
    "    return sigmoid(linear_model(X, W, b))\n",
    "\n",
    "def log_cost(h, y):\n",
    "    return -(y * np.log(h + epsilon) + (1.0 - y) * np.log(1.0 - h + epsilon)).sum(axis=0) / y.shape[0]\n",
    "\n",
    "def log_cost_dev(X, y, h):\n",
    "    diff = h - y\n",
    "    return ((diff * X).sum(axis=0) / y.shape[0]), (diff.sum(axis=0) / y.shape[0])\n",
    "\n",
    "def gd_update(X, y, h, W, b, lr=0.01):\n",
    "    d_W, d_b = log_cost_dev(X, y, h)\n",
    "    return (W - lr * d_W.reshape((d_W.shape[0], 1))), (b - lr * d_b)\n",
    "\n",
    "def binary_precision(h, y, threshold=0.5):\n",
    "    relevant = 0\n",
    "    selected = 0\n",
    "    for cid in range(0, y.shape[0]):\n",
    "        if h[cid][0] > threshold:\n",
    "            selected += 1\n",
    "            if y[cid][0] > 0.5:\n",
    "                relevant += 1                \n",
    "    return 0 if selected==0 else relevant / selected\n",
    "\n",
    "def binary_confusion_matrix(h, y, threshold=0.5):\n",
    "    true_pos = 0\n",
    "    false_pos = 0\n",
    "    true_neg = 0\n",
    "    false_neg = 0\n",
    "    for cid in range(0, y.shape[0]):\n",
    "        if h[cid][0] > threshold:            \n",
    "            if y[cid][0] > 0.5:\n",
    "                true_pos += 1\n",
    "            else:\n",
    "                false_pos += 1\n",
    "        else:\n",
    "            if y[cid][0] > 0.5:\n",
    "                false_neg += 1\n",
    "            else:\n",
    "                true_neg += 1\n",
    "    pc = true_pos / (true_pos + false_pos)\n",
    "    rc = true_pos / (true_pos + false_neg)\n",
    "    f1 = 2.0 * (pc * rc) / (pc + rc)\n",
    "    return pc, rc, f1"
   ]
  },
  {
   "cell_type": "markdown",
   "metadata": {},
   "source": [
    "#### 3), training"
   ]
  },
  {
   "cell_type": "code",
   "execution_count": 12,
   "metadata": {
    "scrolled": false
   },
   "outputs": [
    {
     "name": "stdout",
     "output_type": "stream",
     "text": [
      "epoch: 20, cost: [ 0.06541985], val_conf: (0.6530612244897959, 0.8042328042328042, 0.7208061647895673)\n",
      "epoch: 40, cost: [ 0.047911], val_conf: (0.7334878331402086, 0.8373015873015873, 0.781964175416924)\n",
      "epoch: 60, cost: [ 0.04185299], val_conf: (0.7809867629362214, 0.8584656084656085, 0.8178954001260239)\n",
      "epoch: 80, cost: [ 0.03882561], val_conf: (0.7985436893203883, 0.8703703703703703, 0.8329113924050633)\n",
      "epoch: 100, cost: [ 0.03696666], val_conf: (0.815365551425031, 0.8703703703703703, 0.8419705694177864)\n",
      "epoch: 120, cost: [ 0.03568233], val_conf: (0.821608040201005, 0.8650793650793651, 0.8427835051546391)\n",
      "epoch: 140, cost: [ 0.03473076], val_conf: (0.8316455696202532, 0.8690476190476191, 0.8499353169469599)\n",
      "epoch: 160, cost: [ 0.03399416], val_conf: (0.8382165605095542, 0.8703703703703703, 0.853990914990266)\n",
      "epoch: 180, cost: [ 0.03340736], val_conf: (0.840153452685422, 0.8690476190476191, 0.8543563068920677)\n",
      "epoch: 200, cost: [ 0.03293086], val_conf: (0.8448717948717949, 0.8716931216931217, 0.8580729166666666)\n",
      "epoch: 220, cost: [ 0.03253828], val_conf: (0.8481338481338482, 0.8716931216931217, 0.8597521200260927)\n",
      "epoch: 240, cost: [ 0.03221127], val_conf: (0.8492268041237113, 0.8716931216931217, 0.860313315926893)\n",
      "epoch: 260, cost: [ 0.03193647], val_conf: (0.851421188630491, 0.8716931216931217, 0.8614379084967321)\n",
      "epoch: 280, cost: [ 0.03170378], val_conf: (0.8556566970091027, 0.8703703703703703, 0.862950819672131)\n",
      "epoch: 300, cost: [ 0.0315053], val_conf: (0.8578878748370273, 0.8703703703703703, 0.8640840446487196)\n",
      "epoch: 320, cost: [ 0.03133517], val_conf: (0.8580729166666666, 0.8716931216931217, 0.8648293963254593)\n",
      "epoch: 340, cost: [ 0.03118835], val_conf: (0.8580729166666666, 0.8716931216931217, 0.8648293963254593)\n",
      "epoch: 360, cost: [ 0.03106129], val_conf: (0.8604954367666232, 0.873015873015873, 0.8667104399212082)\n",
      "epoch: 380, cost: [ 0.03095086], val_conf: (0.8627450980392157, 0.873015873015873, 0.8678500986193295)\n",
      "epoch: 400, cost: [ 0.03085463], val_conf: (0.8627450980392157, 0.873015873015873, 0.8678500986193295)\n",
      "epoch: 420, cost: [ 0.03077052], val_conf: (0.8650065530799476, 0.873015873015873, 0.8689927583936801)\n",
      "epoch: 440, cost: [ 0.03069691], val_conf: (0.8685939553219448, 0.8743386243386243, 0.871456822676335)\n",
      "epoch: 460, cost: [ 0.03063238], val_conf: (0.871222076215506, 0.876984126984127, 0.8740936058009229)\n",
      "epoch: 480, cost: [ 0.03057579], val_conf: (0.8700787401574803, 0.876984126984127, 0.8735177865612649)\n",
      "epoch: 500, cost: [ 0.03052628], val_conf: (0.871222076215506, 0.876984126984127, 0.8740936058009229)\n",
      "epoch: 520, cost: [ 0.03048308], val_conf: (0.8700787401574803, 0.876984126984127, 0.8735177865612649)\n",
      "epoch: 540, cost: [ 0.03044519], val_conf: (0.8700787401574803, 0.876984126984127, 0.8735177865612649)\n",
      "epoch: 560, cost: [ 0.0304123], val_conf: (0.8713910761154856, 0.8783068783068783, 0.8748353096179183)\n",
      "epoch: 580, cost: [ 0.03038369], val_conf: (0.8700787401574803, 0.876984126984127, 0.8735177865612649)\n",
      "epoch: 600, cost: [ 0.03035898], val_conf: (0.8700787401574803, 0.876984126984127, 0.8735177865612649)\n",
      "epoch: 620, cost: [ 0.03033784], val_conf: (0.8700787401574803, 0.876984126984127, 0.8735177865612649)\n",
      "epoch: 640, cost: [ 0.03031984], val_conf: (0.8746701846965699, 0.876984126984127, 0.8758256274768823)\n",
      "epoch: 660, cost: [ 0.03030469], val_conf: (0.8746701846965699, 0.876984126984127, 0.8758256274768823)\n",
      "epoch: 680, cost: [ 0.03029213], val_conf: (0.8746701846965699, 0.876984126984127, 0.8758256274768823)\n",
      "epoch: 700, cost: [ 0.03028192], val_conf: (0.8748353096179183, 0.8783068783068783, 0.8765676567656765)\n",
      "epoch: 720, cost: [ 0.03027378], val_conf: (0.8736842105263158, 0.8783068783068783, 0.8759894459102903)\n",
      "epoch: 740, cost: [ 0.03026767], val_conf: (0.8736842105263158, 0.8783068783068783, 0.8759894459102903)\n",
      "epoch: 760, cost: [ 0.03026329], val_conf: (0.8748353096179183, 0.8783068783068783, 0.8765676567656765)\n",
      "epoch: 780, cost: [ 0.0302605], val_conf: (0.873850197109067, 0.8796296296296297, 0.8767303889255108)\n",
      "epoch: 800, cost: [ 0.03025918], val_conf: (0.873850197109067, 0.8796296296296297, 0.8767303889255108)\n",
      "epoch: 820, cost: [ 0.03025913], val_conf: (0.873850197109067, 0.8796296296296297, 0.8767303889255108)\n",
      "epoch: 840, cost: [ 0.03026039], val_conf: (0.875, 0.8796296296296297, 0.8773087071240105)\n",
      "epoch: 860, cost: [ 0.0302627], val_conf: (0.8761528326745718, 0.8796296296296297, 0.8778877887788779)\n",
      "epoch: 880, cost: [ 0.03026606], val_conf: (0.8748353096179183, 0.8783068783068783, 0.8765676567656765)\n",
      "epoch: 900, cost: [ 0.03027032], val_conf: (0.8759894459102903, 0.8783068783068783, 0.8771466314398944)\n",
      "epoch: 920, cost: [ 0.03027568], val_conf: (0.8761528326745718, 0.8796296296296297, 0.8778877887788779)\n",
      "epoch: 940, cost: [ 0.03028176], val_conf: (0.8759894459102903, 0.8783068783068783, 0.8771466314398944)\n",
      "epoch: 960, cost: [ 0.03028847], val_conf: (0.8748353096179183, 0.8783068783068783, 0.8765676567656765)\n",
      "epoch: 980, cost: [ 0.030296], val_conf: (0.8736842105263158, 0.8783068783068783, 0.8759894459102903)\n",
      "epoch: 1000, cost: [ 0.03030415], val_conf: (0.8736842105263158, 0.8783068783068783, 0.8759894459102903)\n",
      "training finished!\n",
      "final cost: [ 0.0240337], conf: (0.8785163057007718, 0.916147455867082, 0.8969373490913712)\n",
      "test cost: [ 0.03056669], conf: (0.8502415458937198, 0.9287598944591029, 0.8877679697351828)\n"
     ]
    },
    {
     "data": {
      "image/png": "[encoded data removed]",
      "text/plain": [
       "<matplotlib.figure.Figure at 0x1072e2a20>"
      ]
     },
     "metadata": {},
     "output_type": "display_data"
    }
   ],
   "source": [
    "threshold = 0.5\n",
    "\n",
    "W = np.array([np.random.randn() for i in range(0, feature_cnt)]).astype(np.float32).reshape((feature_cnt, 1))\n",
    "b = np.random.randn()\n",
    "\n",
    "epoch_arr = []\n",
    "cost_arr = []\n",
    "metric_arr = []\n",
    "\n",
    "step = 20\n",
    "batch_size = 20\n",
    "\n",
    "# mini-batch learning\n",
    "batch_blocks = sample_cnt / batch_size\n",
    "for epoch in range(0, 1000):\n",
    "    # launch mini-batch\n",
    "    batch_start = 0    \n",
    "    while(batch_start + batch_size < sample_cnt):\n",
    "        batch_X = train_X_a[batch_start:batch_start+batch_size,:]\n",
    "        batch_y = train_y_a[batch_start:batch_start+batch_size,:] \n",
    "        h = logistic_model(batch_X, W, b)\n",
    "        W, b = gd_update(batch_X, batch_y, h, W, b, lr=0.01)\n",
    "        batch_start += batch_size\n",
    "        \n",
    "    # eval epoch\n",
    "    if (epoch + 1) % step == 0:\n",
    "        h = logistic_model(validate_X_a, W, b)\n",
    "        cur_cost = log_cost(h, validate_y_a)\n",
    "        cur_conf = binary_confusion_matrix(h, validate_y_a, threshold=threshold)        \n",
    "        print('epoch: {0}, cost: {1}, val_conf: {2}'.format(epoch + 1, cur_cost, cur_conf))\n",
    "        epoch_arr.append(epoch + 1)\n",
    "        cost_arr.append(cur_cost)\n",
    "        metric_arr.append(cur_conf[2])\n",
    "\n",
    "# finish\n",
    "predictions = logistic_model(train_X_a, W, b)\n",
    "final_cost = log_cost(predictions, train_y_a)\n",
    "final_conf = binary_confusion_matrix(predictions, train_y_a, threshold=threshold)\n",
    "print('training finished!')\n",
    "print('final cost: {0}, conf: {1}'.format(final_cost, final_conf))\n",
    "\n",
    "# calculate test conf\n",
    "test_h = logistic_model(test_X_a, W, b)\n",
    "test_cost = log_cost(test_h, test_y_a)\n",
    "test_conf = binary_confusion_matrix(test_h, test_y_a, threshold=threshold)\n",
    "print('test cost: {0}, conf: {1}'.format(test_cost, test_conf))\n",
    "\n",
    "# plot learning curve\n",
    "fig = plt.figure()\n",
    "\n",
    "ax1 = fig.add_subplot(111)\n",
    "ax1.plot(epoch_arr, cost_arr, 'r-', label='cost')\n",
    "ymax = np.max(cost_arr)\n",
    "plt.ylim([0.0, ymax * 1.05])\n",
    "ax1.set_ylabel('cost', color='r')\n",
    "\n",
    "ax2 = ax1.twinx()\n",
    "ax2.plot(epoch_arr, metric_arr, 'b-', label='f1')\n",
    "ymin = np.min(metric_arr)\n",
    "plt.ylim([ymin-0.02 if ymin-0.02 > 0.0 else 0.0, 1.0])\n",
    "ax2.set_ylabel('f1', color='b')\n",
    "\n",
    "plt.axvline(x=0, color='g', linestyle='--')\n",
    "plt.grid(True)\n",
    "plt.xlim([-50, epoch + 50])\n",
    "plt.show()"
   ]
  },
  {
   "cell_type": "code",
   "execution_count": null,
   "metadata": {
    "collapsed": true
   },
   "outputs": [],
   "source": []
  }
 ],
 "metadata": {
  "anaconda-cloud": {},
  "kernelspec": {
   "display_name": "Python 3",
   "language": "python",
   "name": "python3"
  },
  "language_info": {
   "codemirror_mode": {
    "name": "ipython",
    "version": 3
   },
   "file_extension": ".py",
   "mimetype": "text/x-python",
   "name": "python",
   "nbconvert_exporter": "python",
   "pygments_lexer": "ipython3",
   "version": "3.6.1"
  }
 },
 "nbformat": 4,
 "nbformat_minor": 1
}
