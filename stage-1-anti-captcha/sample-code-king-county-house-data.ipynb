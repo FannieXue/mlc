{
 "cells": [
  {
   "cell_type": "markdown",
   "metadata": {},
   "source": [
    "## King County House Data"
   ]
  },
  {
   "cell_type": "code",
   "execution_count": 1,
   "metadata": {
    "collapsed": true
   },
   "outputs": [],
   "source": [
    "import pandas as pd\n",
    "import numpy as np\n",
    "import matplotlib.pyplot as plt\n",
    "import utils\n",
    "import models as ml\n",
    "\n",
    "from sklearn.model_selection import train_test_split\n",
    "\n",
    "%matplotlib inline"
   ]
  },
  {
   "cell_type": "markdown",
   "metadata": {},
   "source": [
    "#### 1), prepare data "
   ]
  },
  {
   "cell_type": "code",
   "execution_count": 2,
   "metadata": {},
   "outputs": [],
   "source": [
    "df = pd.read_csv('./kc_house_data.csv')\n",
    "df.head()\n",
    "df_train, df_test = train_test_split(df, test_size = 0.2) "
   ]
  },
  {
   "cell_type": "code",
   "execution_count": 3,
   "metadata": {},
   "outputs": [
    {
     "data": {
      "text/html": [
       "<div>\n",
       "<style>\n",
       "    .dataframe thead tr:only-child th {\n",
       "        text-align: right;\n",
       "    }\n",
       "\n",
       "    .dataframe thead th {\n",
       "        text-align: left;\n",
       "    }\n",
       "\n",
       "    .dataframe tbody tr th {\n",
       "        vertical-align: top;\n",
       "    }\n",
       "</style>\n",
       "<table border=\"1\" class=\"dataframe\">\n",
       "  <thead>\n",
       "    <tr style=\"text-align: right;\">\n",
       "      <th></th>\n",
       "      <th>id</th>\n",
       "      <th>date</th>\n",
       "      <th>price</th>\n",
       "      <th>bedrooms</th>\n",
       "      <th>bathrooms</th>\n",
       "      <th>sqft_living</th>\n",
       "      <th>sqft_lot</th>\n",
       "      <th>floors</th>\n",
       "      <th>waterfront</th>\n",
       "      <th>view</th>\n",
       "      <th>...</th>\n",
       "      <th>grade</th>\n",
       "      <th>sqft_above</th>\n",
       "      <th>sqft_basement</th>\n",
       "      <th>yr_built</th>\n",
       "      <th>yr_renovated</th>\n",
       "      <th>zipcode</th>\n",
       "      <th>lat</th>\n",
       "      <th>long</th>\n",
       "      <th>sqft_living15</th>\n",
       "      <th>sqft_lot15</th>\n",
       "    </tr>\n",
       "  </thead>\n",
       "  <tbody>\n",
       "    <tr>\n",
       "      <th>19917</th>\n",
       "      <td>2597490140</td>\n",
       "      <td>20150326T000000</td>\n",
       "      <td>825000.0</td>\n",
       "      <td>4</td>\n",
       "      <td>3.25</td>\n",
       "      <td>3040</td>\n",
       "      <td>4155</td>\n",
       "      <td>2.0</td>\n",
       "      <td>0</td>\n",
       "      <td>0</td>\n",
       "      <td>...</td>\n",
       "      <td>8</td>\n",
       "      <td>2350</td>\n",
       "      <td>690</td>\n",
       "      <td>2013</td>\n",
       "      <td>0</td>\n",
       "      <td>98029</td>\n",
       "      <td>47.5429</td>\n",
       "      <td>-122.012</td>\n",
       "      <td>2680</td>\n",
       "      <td>4000</td>\n",
       "    </tr>\n",
       "    <tr>\n",
       "      <th>5339</th>\n",
       "      <td>1440500020</td>\n",
       "      <td>20141226T000000</td>\n",
       "      <td>350000.0</td>\n",
       "      <td>3</td>\n",
       "      <td>1.75</td>\n",
       "      <td>1470</td>\n",
       "      <td>8645</td>\n",
       "      <td>1.0</td>\n",
       "      <td>0</td>\n",
       "      <td>0</td>\n",
       "      <td>...</td>\n",
       "      <td>6</td>\n",
       "      <td>1470</td>\n",
       "      <td>0</td>\n",
       "      <td>1949</td>\n",
       "      <td>0</td>\n",
       "      <td>98155</td>\n",
       "      <td>47.7524</td>\n",
       "      <td>-122.323</td>\n",
       "      <td>1470</td>\n",
       "      <td>7680</td>\n",
       "    </tr>\n",
       "    <tr>\n",
       "      <th>16409</th>\n",
       "      <td>7231600098</td>\n",
       "      <td>20141014T000000</td>\n",
       "      <td>225000.0</td>\n",
       "      <td>2</td>\n",
       "      <td>1.00</td>\n",
       "      <td>700</td>\n",
       "      <td>6000</td>\n",
       "      <td>1.0</td>\n",
       "      <td>0</td>\n",
       "      <td>0</td>\n",
       "      <td>...</td>\n",
       "      <td>6</td>\n",
       "      <td>700</td>\n",
       "      <td>0</td>\n",
       "      <td>1943</td>\n",
       "      <td>0</td>\n",
       "      <td>98055</td>\n",
       "      <td>47.4671</td>\n",
       "      <td>-122.212</td>\n",
       "      <td>1320</td>\n",
       "      <td>6000</td>\n",
       "    </tr>\n",
       "    <tr>\n",
       "      <th>19340</th>\n",
       "      <td>5492200090</td>\n",
       "      <td>20141007T000000</td>\n",
       "      <td>770126.0</td>\n",
       "      <td>4</td>\n",
       "      <td>2.75</td>\n",
       "      <td>2390</td>\n",
       "      <td>9300</td>\n",
       "      <td>1.0</td>\n",
       "      <td>0</td>\n",
       "      <td>0</td>\n",
       "      <td>...</td>\n",
       "      <td>8</td>\n",
       "      <td>1430</td>\n",
       "      <td>960</td>\n",
       "      <td>1979</td>\n",
       "      <td>0</td>\n",
       "      <td>98004</td>\n",
       "      <td>47.6035</td>\n",
       "      <td>-122.206</td>\n",
       "      <td>1910</td>\n",
       "      <td>9348</td>\n",
       "    </tr>\n",
       "    <tr>\n",
       "      <th>17426</th>\n",
       "      <td>2597650660</td>\n",
       "      <td>20141013T000000</td>\n",
       "      <td>775000.0</td>\n",
       "      <td>4</td>\n",
       "      <td>2.50</td>\n",
       "      <td>3180</td>\n",
       "      <td>15358</td>\n",
       "      <td>2.0</td>\n",
       "      <td>0</td>\n",
       "      <td>0</td>\n",
       "      <td>...</td>\n",
       "      <td>9</td>\n",
       "      <td>3180</td>\n",
       "      <td>0</td>\n",
       "      <td>1988</td>\n",
       "      <td>0</td>\n",
       "      <td>98027</td>\n",
       "      <td>47.5172</td>\n",
       "      <td>-122.053</td>\n",
       "      <td>3020</td>\n",
       "      <td>15522</td>\n",
       "    </tr>\n",
       "  </tbody>\n",
       "</table>\n",
       "<p>5 rows × 21 columns</p>\n",
       "</div>"
      ],
      "text/plain": [
       "               id             date     price  bedrooms  bathrooms  \\\n",
       "19917  2597490140  20150326T000000  825000.0         4       3.25   \n",
       "5339   1440500020  20141226T000000  350000.0         3       1.75   \n",
       "16409  7231600098  20141014T000000  225000.0         2       1.00   \n",
       "19340  5492200090  20141007T000000  770126.0         4       2.75   \n",
       "17426  2597650660  20141013T000000  775000.0         4       2.50   \n",
       "\n",
       "       sqft_living  sqft_lot  floors  waterfront  view     ...      grade  \\\n",
       "19917         3040      4155     2.0           0     0     ...          8   \n",
       "5339          1470      8645     1.0           0     0     ...          6   \n",
       "16409          700      6000     1.0           0     0     ...          6   \n",
       "19340         2390      9300     1.0           0     0     ...          8   \n",
       "17426         3180     15358     2.0           0     0     ...          9   \n",
       "\n",
       "       sqft_above  sqft_basement  yr_built  yr_renovated  zipcode      lat  \\\n",
       "19917        2350            690      2013             0    98029  47.5429   \n",
       "5339         1470              0      1949             0    98155  47.7524   \n",
       "16409         700              0      1943             0    98055  47.4671   \n",
       "19340        1430            960      1979             0    98004  47.6035   \n",
       "17426        3180              0      1988             0    98027  47.5172   \n",
       "\n",
       "          long  sqft_living15  sqft_lot15  \n",
       "19917 -122.012           2680        4000  \n",
       "5339  -122.323           1470        7680  \n",
       "16409 -122.212           1320        6000  \n",
       "19340 -122.206           1910        9348  \n",
       "17426 -122.053           3020       15522  \n",
       "\n",
       "[5 rows x 21 columns]"
      ]
     },
     "execution_count": 3,
     "metadata": {},
     "output_type": "execute_result"
    }
   ],
   "source": [
    "df_train.head()"
   ]
  },
  {
   "cell_type": "code",
   "execution_count": 4,
   "metadata": {},
   "outputs": [],
   "source": [
    "train_data = np.array(df_train)[:,2:]\n",
    "train_X = train_data[:,1:].astype(np.float32)\n",
    "train_y = train_data[:,0].astype(np.float32)\n",
    "train_y = train_y.reshape(train_y.shape[0], 1)"
   ]
  },
  {
   "cell_type": "code",
   "execution_count": 5,
   "metadata": {},
   "outputs": [
    {
     "data": {
      "text/plain": [
       "(17290, 18)"
      ]
     },
     "execution_count": 5,
     "metadata": {},
     "output_type": "execute_result"
    }
   ],
   "source": [
    "train_X.shape"
   ]
  },
  {
   "cell_type": "code",
   "execution_count": 6,
   "metadata": {},
   "outputs": [
    {
     "data": {
      "text/plain": [
       "(17290, 1)"
      ]
     },
     "execution_count": 6,
     "metadata": {},
     "output_type": "execute_result"
    }
   ],
   "source": [
    "train_y.shape"
   ]
  },
  {
   "cell_type": "code",
   "execution_count": 7,
   "metadata": {},
   "outputs": [
    {
     "data": {
      "text/plain": [
       "array([  4.00000000e+00,   3.25000000e+00,   3.04000000e+03,\n",
       "         4.15500000e+03,   2.00000000e+00,   0.00000000e+00,\n",
       "         0.00000000e+00,   3.00000000e+00,   8.00000000e+00,\n",
       "         2.35000000e+03,   6.90000000e+02,   2.01300000e+03,\n",
       "         0.00000000e+00,   9.80290000e+04,   4.75429001e+01,\n",
       "        -1.22012001e+02,   2.68000000e+03,   4.00000000e+03], dtype=float32)"
      ]
     },
     "execution_count": 7,
     "metadata": {},
     "output_type": "execute_result"
    }
   ],
   "source": [
    "train_X[0]"
   ]
  },
  {
   "cell_type": "code",
   "execution_count": 8,
   "metadata": {},
   "outputs": [],
   "source": [
    "stds_X, means_X = ml.std_normalize(train_X)"
   ]
  },
  {
   "cell_type": "code",
   "execution_count": 9,
   "metadata": {},
   "outputs": [],
   "source": [
    "std_y, mean_y = ml.std_normalize(train_y.reshape(train_y.shape[0], 1))"
   ]
  },
  {
   "cell_type": "markdown",
   "metadata": {},
   "source": [
    "#### 2), train linear model"
   ]
  },
  {
   "cell_type": "code",
   "execution_count": 10,
   "metadata": {
    "collapsed": true
   },
   "outputs": [],
   "source": [
    "feature_cnt = train_X.shape[1]\n",
    "sample_cnt = train_X.shape[0]"
   ]
  },
  {
   "cell_type": "code",
   "execution_count": 16,
   "metadata": {},
   "outputs": [
    {
     "name": "stdout",
     "output_type": "stream",
     "text": [
      "epoch: 1000, cost:2694.8987165547073\n",
      "epoch: 2000, cost:2591.300468687815\n",
      "epoch: 3000, cost:2589.567121240845\n",
      "epoch: 4000, cost:2589.531462432317\n",
      "epoch: 5000, cost:2589.530707513511\n",
      "epoch: 6000, cost:2589.530691427876\n",
      "epoch: 7000, cost:2589.5306910842987\n",
      "epoch: 8000, cost:2589.530691076952\n",
      "epoch: 9000, cost:2589.530691076795\n",
      "epoch: 10000, cost:2589.5306910767918\n",
      "training finished!\n",
      "final cost: 2589.5306910767913\n"
     ]
    }
   ],
   "source": [
    "W, b = ml.create_parameters(feature_cnt)\n",
    "\n",
    "# batch learning\n",
    "for epoch in range(0, 10000):\n",
    "    h = ml.linear_model(train_X, W, b)\n",
    "    W, b = ml.gd_update(train_X, train_y, h, W, b, ml.mse_cost_dev, lr=0.01)\n",
    "    if (epoch + 1) % 1000 == 0:\n",
    "        cur_cost = ml.mse_cost(h, train_y)\n",
    "        print('epoch: {0}, cost:{1}'.format(epoch + 1, cur_cost))\n",
    "\n",
    "# finish\n",
    "predictions = ml.linear_model(train_X, W, b)\n",
    "final_cost = ml.mse_cost(predictions, train_y)\n",
    "print('training finished!')\n",
    "print('final cost: {0}'.format(final_cost, W, b))"
   ]
  },
  {
   "cell_type": "code",
   "execution_count": null,
   "metadata": {
    "collapsed": true
   },
   "outputs": [],
   "source": []
  }
 ],
 "metadata": {
  "kernelspec": {
   "display_name": "Python 3",
   "language": "python",
   "name": "python3"
  },
  "language_info": {
   "codemirror_mode": {
    "name": "ipython",
    "version": 3
   },
   "file_extension": ".py",
   "mimetype": "text/x-python",
   "name": "python",
   "nbconvert_exporter": "python",
   "pygments_lexer": "ipython3",
   "version": "3.6.1"
  }
 },
 "nbformat": 4,
 "nbformat_minor": 2
}
