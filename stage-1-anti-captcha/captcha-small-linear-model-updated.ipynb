{
 "cells": [
  {
   "cell_type": "markdown",
   "metadata": {},
   "source": [
    "## Have fun with linear model\n",
    "\n",
    "Author: hdup  \n",
    "My contact info:  \n",
    "hdup [huangdan@youhujia.com](mailto:huangdan@youhujia.com)  \n",
    "evitself [evitself@gmail.com](mailto:evitself@gmail.com)"
   ]
  },
  {
   "cell_type": "code",
   "execution_count": 1,
   "metadata": {
    "collapsed": true
   },
   "outputs": [],
   "source": [
    "import os\n",
    "import numpy as np\n",
    "import cv2\n",
    "import matplotlib.pyplot as plt\n",
    "import utils\n",
    "import models as ml\n",
    "\n",
    "%matplotlib inline"
   ]
  },
  {
   "cell_type": "markdown",
   "metadata": {},
   "source": [
    "### Let's play with linear regression"
   ]
  },
  {
   "cell_type": "markdown",
   "metadata": {},
   "source": [
    "#### Prepare sample data"
   ]
  },
  {
   "cell_type": "code",
   "execution_count": 2,
   "metadata": {},
   "outputs": [
    {
     "name": "stdout",
     "output_type": "stream",
     "text": [
      "(100, 1)\n"
     ]
    }
   ],
   "source": [
    "sample_cnt = 100\n",
    "\n",
    "train_X = np.linspace(-3.0, 3.0, num=sample_cnt, dtype=np.float32).reshape((sample_cnt, 1))\n",
    "train_y = train_X * 0.375 + 1.1\n",
    "\n",
    "print(train_X.shape)"
   ]
  },
  {
   "cell_type": "markdown",
   "metadata": {},
   "source": [
    "### Implement with numpy"
   ]
  },
  {
   "cell_type": "markdown",
   "metadata": {},
   "source": [
    "#### 1), linear regression"
   ]
  },
  {
   "cell_type": "code",
   "execution_count": 3,
   "metadata": {
    "scrolled": false
   },
   "outputs": [
    {
     "name": "stdout",
     "output_type": "stream",
     "text": [
      "epoch: 100, cost:25.001082679688015, W:[[ 0.38395204]], b:0.4001318870929507\n",
      "epoch: 200, cost:3.347914494584382, W:[[ 0.3753999]], b:0.8438256519208711\n",
      "epoch: 300, cost:0.4485490582541475, W:[[ 0.37501786]], b:1.006231919469168\n",
      "epoch: 400, cost:0.060096450123767034, W:[[ 0.3750008]], b:1.0656778658173178\n",
      "epoch: 500, cost:0.008051702834072758, W:[[ 0.37500004]], b:1.0874370047383337\n",
      "epoch: 600, cost:0.0010787645277940462, W:[[ 0.375]], b:1.0954015533016834\n",
      "epoch: 700, cost:0.00014453252074165607, W:[[ 0.375]], b:1.0983168356595105\n",
      "epoch: 800, cost:1.936442019497322e-05, W:[[ 0.375]], b:1.0993839232864184\n",
      "epoch: 900, cost:2.594438781136812e-06, W:[[ 0.375]], b:1.0997745118688396\n",
      "epoch: 1000, cost:3.476021239440019e-07, W:[[ 0.375]], b:1.099917479922138\n",
      "training finished!\n",
      "final cost: 3.406848430468343e-07, W: [[ 0.375]], b: 1.099917479922138\n"
     ]
    },
    {
     "data": {
      "image/png": "[encoded data removed]",
      "text/plain": [
       "<matplotlib.figure.Figure at 0x10e2f15f8>"
      ]
     },
     "metadata": {},
     "output_type": "display_data"
    }
   ],
   "source": [
    "# init parameters\n",
    "W, b = ml.create_parameters(1)\n",
    "\n",
    "# batch learning\n",
    "for epoch in range(0, 1000):\n",
    "    h = ml.linear_model(train_X, W, b)\n",
    "    W, b = ml.gd_update(train_X, train_y, h, W, b, ml.mse_cost_dev, lr=0.01)\n",
    "    if (epoch + 1) % 100 == 0:\n",
    "        cur_cost = ml.mse_cost(h, train_y)\n",
    "        print('epoch: {0}, cost:{1}, W:{2}, b:{3}'.format(epoch + 1, cur_cost, W, b))\n",
    "\n",
    "# finish\n",
    "predictions = ml.linear_model(train_X, W, b)\n",
    "final_cost = ml.mse_cost(predictions, train_y)\n",
    "print('training finished!')\n",
    "print('final cost: {0}, W: {1}, b: {2}'.format(final_cost, W, b))\n",
    "\n",
    "# then plot some curves\n",
    "plt.plot(train_X, train_y, 'r+', label='training')\n",
    "plt.plot(train_X, predictions, 'b--', label='fitted')\n",
    "plt.grid(True)\n",
    "plt.legend()\n",
    "plt.show()"
   ]
  },
  {
   "cell_type": "markdown",
   "metadata": {},
   "source": [
    "### Logistic regression (generalized linear model) with numpy"
   ]
  },
  {
   "cell_type": "markdown",
   "metadata": {},
   "source": [
    "#### 1), prepare label data"
   ]
  },
  {
   "cell_type": "code",
   "execution_count": 4,
   "metadata": {
    "collapsed": true
   },
   "outputs": [],
   "source": [
    "train_y_binary = np.array([1.0 if i > 0.5 else 0 for i in train_y]).reshape(sample_cnt, 1)"
   ]
  },
  {
   "cell_type": "markdown",
   "metadata": {},
   "source": [
    "#### 2), training"
   ]
  },
  {
   "cell_type": "code",
   "execution_count": 6,
   "metadata": {},
   "outputs": [
    {
     "name": "stdout",
     "output_type": "stream",
     "text": [
      "epoch: 1000, cost: [ 0.05622545], W: [[ 4.85116317]], b: [ 7.48983889], acc: 0.99\n",
      "epoch: 2000, cost: [ 0.04431211], W: [[ 6.13219278]], b: [ 9.54027715], acc: 1.0\n",
      "epoch: 3000, cost: [ 0.03856656], W: [[ 7.03029645]], b: [ 10.97109599], acc: 1.0\n",
      "epoch: 4000, cost: [ 0.03495107], W: [[ 7.74503986]], b: [ 12.10720806], acc: 1.0\n",
      "epoch: 5000, cost: [ 0.03238167], W: [[ 8.34856733]], b: [ 13.06521357], acc: 1.0\n",
      "epoch: 6000, cost: [ 0.03042211], W: [[ 8.87615742]], b: [ 13.90189137], acc: 1.0\n",
      "epoch: 7000, cost: [ 0.02885687], W: [[ 9.3480112]], b: [ 14.64966324], acc: 1.0\n",
      "epoch: 8000, cost: [ 0.02756499], W: [[ 9.77690208]], b: [ 15.32898834], acc: 1.0\n",
      "epoch: 9000, cost: [ 0.02647238], W: [[ 10.17148029]], b: [ 15.95370042], acc: 1.0\n",
      "epoch: 10000, cost: [ 0.02553069], W: [[ 10.5379072]], b: [ 16.53364084], acc: 1.0\n",
      "training finished!\n",
      "final cost: [ 0.02552982], W: [[ 10.5379072]], b: [ 16.53364084], acc: 1.0\n"
     ]
    },
    {
     "data": {
      "image/png": "[encoded data removed]",
      "text/plain": [
       "<matplotlib.figure.Figure at 0x10e4ab588>"
      ]
     },
     "metadata": {},
     "output_type": "display_data"
    }
   ],
   "source": [
    "W, b = ml.create_parameters(1)\n",
    "\n",
    "threshold = 0.5\n",
    "\n",
    "# batch learning\n",
    "for epoch in range(0, 10000):\n",
    "    h = ml.logistic_model(train_X, W, b)\n",
    "    W, b = ml.gd_update(train_X, train_y_binary, h, W, b, ml.log_cost_dev, lr=0.5)\n",
    "    if (epoch + 1) % 1000 == 0:\n",
    "        cur_cost = ml.log_cost(h, train_y_binary)\n",
    "        acc = ml.binary_accuracy(h, train_y_binary, threshold=threshold)\n",
    "        print('epoch: {0}, cost: {1}, W: {2}, b: {3}, acc: {4}'.format(epoch + 1, cur_cost, W, b, acc))\n",
    "\n",
    "# finish\n",
    "predictions = ml.logistic_model(train_X, W, b)\n",
    "final_cost = ml.log_cost(predictions, train_y_binary)\n",
    "final_acc = ml.binary_accuracy(predictions, train_y_binary, threshold=threshold)\n",
    "print('training finished!')\n",
    "print('final cost: {0}, W: {1}, b: {2}, acc: {3}'.format(final_cost, W, b, final_acc))\n",
    "\n",
    "# then plot some curves\n",
    "plt.plot(train_X, train_y_binary, 'r-', label='training')\n",
    "plt.plot(train_X, predictions, 'b-', label='fitted')\n",
    "plt.axhline(y=threshold, color='g', linestyle='-', label='threshold')\n",
    "plt.grid(True)\n",
    "plt.ylim([-0.2, 1.2])\n",
    "plt.legend()\n",
    "plt.show()"
   ]
  },
  {
   "cell_type": "markdown",
   "metadata": {
    "collapsed": true
   },
   "source": [
    "### Time to have fun with cracking captcha with LR model"
   ]
  },
  {
   "cell_type": "markdown",
   "metadata": {},
   "source": [
    "#### 1), load and prepare data"
   ]
  },
  {
   "cell_type": "code",
   "execution_count": 9,
   "metadata": {
    "collapsed": true
   },
   "outputs": [],
   "source": [
    "from utils import corpus, corpus_len, show_img, prepare_data, one_hot_to_label, showcase"
   ]
  },
  {
   "cell_type": "code",
   "execution_count": 10,
   "metadata": {},
   "outputs": [
    {
     "name": "stdout",
     "output_type": "stream",
     "text": [
      "shape X (100000, 30, 30), y (100000, 26)\n",
      "shape X (20000, 30, 30), y (20000, 26)\n",
      "shape X (10000, 30, 30), y (10000, 26)\n"
     ]
    }
   ],
   "source": [
    "train_data = np.load('./data.npz')\n",
    "train_X=train_data['X']\n",
    "train_y=train_data['y']\n",
    "print('shape X {0}, y {1}'.format(train_X.shape, train_y.shape))\n",
    "\n",
    "validate_data = np.load('./val.npz')\n",
    "validate_X=validate_data['X']\n",
    "validate_y=validate_data['y']\n",
    "print('shape X {0}, y {1}'.format(validate_X.shape, validate_y.shape))\n",
    "\n",
    "test_data = np.load('./test.npz')\n",
    "test_X=test_data['X']\n",
    "test_y=test_data['y']\n",
    "print('shape X {0}, y {1}'.format(test_X.shape, test_y.shape))\n",
    "\n",
    "train_X, train_y = prepare_data(train_X, train_y)\n",
    "validate_X, validate_y = prepare_data(validate_X, validate_y)\n",
    "test_X, test_y = prepare_data(test_X, test_y)"
   ]
  },
  {
   "cell_type": "markdown",
   "metadata": {},
   "source": [
    "#### 2), let's take character A as example\n",
    "\n",
    "You should know one-vs-all"
   ]
  },
  {
   "cell_type": "code",
   "execution_count": 11,
   "metadata": {},
   "outputs": [
    {
     "name": "stdout",
     "output_type": "stream",
     "text": [
      "(100000, 900)\n",
      "(100000, 1)\n"
     ]
    }
   ],
   "source": [
    "sample_cnt = train_X.shape[0]\n",
    "feature_cnt = train_X.shape[1] * train_X.shape[2]\n",
    "\n",
    "train_X_a = train_X.reshape((sample_cnt, feature_cnt))\n",
    "validate_X_a = validate_X.reshape((validate_X.shape[0], feature_cnt))\n",
    "test_X_a = test_X.reshape((test_X.shape[0], feature_cnt))\n",
    "\n",
    "train_y_a = train_y[:,0:1]\n",
    "validate_y_a = validate_y[:,0:1]\n",
    "test_y_a = test_y[:,0:1]\n",
    "\n",
    "print(train_X_a.shape)\n",
    "print(train_y_a.shape)"
   ]
  },
  {
   "cell_type": "markdown",
   "metadata": {},
   "source": [
    "#### 3), training"
   ]
  },
  {
   "cell_type": "code",
   "execution_count": null,
   "metadata": {
    "scrolled": false
   },
   "outputs": [],
   "source": [
    "threshold = 0.5\n",
    "\n",
    "W, b = ml.create_parameters(feature_cnt)\n",
    "\n",
    "epoch_arr = []\n",
    "cost_arr = []\n",
    "metric_arr = []\n",
    "\n",
    "step = 50\n",
    "batch_size = 20\n",
    "\n",
    "# mini-batch learning\n",
    "batch_blocks = sample_cnt / batch_size\n",
    "for epoch in range(0, 400):\n",
    "    # launch mini-batch\n",
    "    batch_start = 0    \n",
    "    while(batch_start + batch_size < sample_cnt):\n",
    "        batch_X = train_X_a[batch_start:batch_start+batch_size,:]\n",
    "        batch_y = train_y_a[batch_start:batch_start+batch_size,:] \n",
    "        h = ml.logistic_model(batch_X, W, b)\n",
    "        W, b = ml.gd_update(batch_X, batch_y, h, W, b, ml.log_cost_dev, lr=0.01)\n",
    "        batch_start += batch_size\n",
    "        \n",
    "    # eval epoch\n",
    "    if (epoch + 1) % step == 0:\n",
    "        h = ml.logistic_model(validate_X_a, W, b)\n",
    "        cur_cost = ml.log_cost(h, validate_y_a)\n",
    "        cur_conf = ml.binary_confusion_matrix(h, validate_y_a, threshold=threshold)        \n",
    "        print('epoch: {0}, cost: {1}, val_conf: {2}'.format(epoch + 1, cur_cost, cur_conf))\n",
    "        epoch_arr.append(epoch + 1)\n",
    "        cost_arr.append(cur_cost)\n",
    "        metric_arr.append(cur_conf[2])\n",
    "\n",
    "# finish\n",
    "predictions = ml.logistic_model(train_X_a, W, b)\n",
    "final_cost = ml.log_cost(predictions, train_y_a)\n",
    "final_conf = ml.binary_confusion_matrix(predictions, train_y_a, threshold=threshold)\n",
    "print('training finished!')\n",
    "print('final training cost: {0}, conf: {1}'.format(final_cost, final_conf))\n",
    "\n",
    "# calculate test conf\n",
    "test_h = ml.logistic_model(test_X_a, W, b)\n",
    "test_cost = ml.log_cost(test_h, test_y_a)\n",
    "test_conf = ml.binary_confusion_matrix(test_h, test_y_a, threshold=threshold)\n",
    "print('test cost: {0}, conf: {1}'.format(test_cost, test_conf))\n",
    "\n",
    "# plot learning curve\n",
    "fig = plt.figure()\n",
    "\n",
    "ax1 = fig.add_subplot(111)\n",
    "ax1.plot(epoch_arr, cost_arr, 'r-', label='cost')\n",
    "ymax = np.max(cost_arr)\n",
    "plt.ylim([0.0, ymax * 1.05])\n",
    "ax1.set_ylabel('cost', color='r')\n",
    "\n",
    "ax2 = ax1.twinx()\n",
    "ax2.plot(epoch_arr, metric_arr, 'b-', label='f1')\n",
    "ymin = np.min(metric_arr)\n",
    "plt.ylim([ymin-0.02 if ymin-0.02 > 0.0 else 0.0, 1.0])\n",
    "ax2.set_ylabel('f1', color='b')\n",
    "\n",
    "plt.axvline(x=0, color='g', linestyle='--')\n",
    "plt.grid(True)\n",
    "plt.xlim([-50, epoch + 50])\n",
    "plt.show()"
   ]
  },
  {
   "cell_type": "code",
   "execution_count": null,
   "metadata": {
    "collapsed": true
   },
   "outputs": [],
   "source": []
  }
 ],
 "metadata": {
  "anaconda-cloud": {},
  "kernelspec": {
   "display_name": "Python 3",
   "language": "python",
   "name": "python3"
  },
  "language_info": {
   "codemirror_mode": {
    "name": "ipython",
    "version": 3
   },
   "file_extension": ".py",
   "mimetype": "text/x-python",
   "name": "python",
   "nbconvert_exporter": "python",
   "pygments_lexer": "ipython3",
   "version": "3.6.1"
  }
 },
 "nbformat": 4,
 "nbformat_minor": 1
}
