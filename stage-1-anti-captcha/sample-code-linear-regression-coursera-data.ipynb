{
 "cells": [
  {
   "cell_type": "markdown",
   "metadata": {},
   "source": [
    "## Sample code of linear regression with coursera training data\n",
    "\n",
    "Author: hdup  \n",
    "Email: [huangdan@youhujia.com](huangdan@youhujia.com)"
   ]
  },
  {
   "cell_type": "code",
   "execution_count": 2,
   "metadata": {
    "collapsed": true
   },
   "outputs": [],
   "source": [
    "import pandas as pd\n",
    "import numpy as np\n",
    "import matplotlib.pyplot as plt\n",
    "from models import linear_model, mse_cost, mse_cost_dev, gd_update\n",
    "\n",
    "%matplotlib inline"
   ]
  },
  {
   "cell_type": "markdown",
   "metadata": {},
   "source": [
    "## Uni-variable Linear Regression"
   ]
  },
  {
   "cell_type": "markdown",
   "metadata": {},
   "source": [
    "### 1), prepare data"
   ]
  },
  {
   "cell_type": "code",
   "execution_count": 3,
   "metadata": {
    "collapsed": true
   },
   "outputs": [],
   "source": [
    "train_data = np.array(pd.read_csv('./ex1data1.txt', header=None))\n",
    "train_X = train_data[:,0].reshape((train_data.shape[0], 1))\n",
    "train_y = train_data[:,1].reshape((train_data.shape[0], 1))\n",
    "feature_cnt = train_X.shape[1]\n",
    "sample_cnt = train_X.shape[0]"
   ]
  },
  {
   "cell_type": "markdown",
   "metadata": {},
   "source": [
    "### 2), define model "
   ]
  },
  {
   "cell_type": "code",
   "execution_count": 4,
   "metadata": {
    "collapsed": true
   },
   "outputs": [],
   "source": [
    "def linear_model(X, W, b):\n",
    "    return np.matmul(X ,W) + b\n",
    "\n",
    "def mse_cost(h, y):\n",
    "    diff = h - y\n",
    "    return (diff * diff).sum() / (2 * y.shape[0])\n",
    "\n",
    "def mse_cost_dev(X, y, h):\n",
    "    diff = h - y\n",
    "    return ((diff * X).sum() / X.shape[0]), (diff.sum() / X.shape[0])\n",
    "\n",
    "def gd_update(X, y, h, W, b, cost_dev_func, lr=0.01):\n",
    "    d_W, d_b = cost_dev_func(X, y, h)\n",
    "    return (W - lr * d_W), (b - lr * d_b)\n",
    "\n",
    "def create_parameters(feature_size):\n",
    "    param_W = np.array([np.random.randn() for i in range(0, feature_size)]).reshape((feature_size, 1))\n",
    "    param_b = np.random.randn()\n",
    "    return param_W, param_b\n",
    "\n",
    "def std_normalize(X):\n",
    "    stds = np.std(X, axis=0)\n",
    "    means = np.mean(X, axis=0)\n",
    "    for col in range(0, X.shape[1]):\n",
    "        X[:,col] = (X[:,col] - means[col]) / stds[col]\n",
    "    return stds, means\n",
    "\n",
    "def expand_feature_poly(X):\n",
    "    expanded = np.ndarray((X.shape[0], 8), dtype=np.float32)\n",
    "    expanded[:,0:2] = X[:,0:2]\n",
    "    expanded[:,2] = X[:,0]**2\n",
    "    expanded[:,3] = X[:,1]**2\n",
    "    expanded[:,4] = X[:,0]**3\n",
    "    expanded[:,5] = X[:,1]**3\n",
    "    expanded[:,6] = X[:,0]*X[:,1]\n",
    "    expanded[:,7] = X[:,2]\n",
    "    return expanded"
   ]
  },
  {
   "cell_type": "markdown",
   "metadata": {},
   "source": [
    "### 3), training "
   ]
  },
  {
   "cell_type": "code",
   "execution_count": 5,
   "metadata": {},
   "outputs": [
    {
     "name": "stdout",
     "output_type": "stream",
     "text": [
      "epoch: 100, cost:5.219099774060576, W:[[ 0.90672262]], b:-1.0458046902283649\n",
      "epoch: 200, cost:4.994299726853847, W:[[ 0.95398753]], b:-1.5162856078338576\n",
      "epoch: 300, cost:4.83759444782271, W:[[ 0.99344984]], b:-1.9090984049980502\n",
      "epoch: 400, cost:4.728357173269806, W:[[ 1.02639761]], b:-2.2370647216794457\n",
      "epoch: 500, cost:4.652209246247036, W:[[ 1.05390629]], b:-2.510889570701872\n",
      "epoch: 600, cost:4.5991274862562435, W:[[ 1.07687377]], b:-2.739510755648113\n",
      "epoch: 700, cost:4.562124860526493, W:[[ 1.09604972]], b:-2.9303906060080123\n",
      "epoch: 800, cost:4.536330796593165, W:[[ 1.11206006]], b:-3.0897595519873002\n",
      "epoch: 900, cost:4.518350079790637, W:[[ 1.12542737]], b:-3.222819489401647\n",
      "epoch: 1000, cost:4.505815948776291, W:[[ 1.13658798]], b:-3.333913572605359\n",
      "training finished!\n",
      "final cost: 4.505712052289656, W: [[ 1.13658798]], b: -3.333913572605359\n"
     ]
    },
    {
     "data": {
      "image/png": "[encoded data removed]",
      "text/plain": [
       "<matplotlib.figure.Figure at 0x11349f630>"
      ]
     },
     "metadata": {},
     "output_type": "display_data"
    }
   ],
   "source": [
    "W, b = create_parameters(feature_cnt)\n",
    "\n",
    "# batch learning\n",
    "for epoch in range(0, 1000):\n",
    "    h = linear_model(train_X, W, b)\n",
    "    W, b = gd_update(train_X, train_y, h, W, b, mse_cost_dev, lr=0.01)\n",
    "    if (epoch + 1) % 100 == 0:\n",
    "        cur_cost = mse_cost(h, train_y)\n",
    "        print('epoch: {0}, cost:{1}, W:{2}, b:{3}'.format(epoch + 1, cur_cost, W, b))\n",
    "\n",
    "# finish\n",
    "predictions = linear_model(train_X, W, b)\n",
    "final_cost = mse_cost(predictions, train_y)\n",
    "print('training finished!')\n",
    "print('final cost: {0}, W: {1}, b: {2}'.format(final_cost, W, b))\n",
    "\n",
    "# then plot some curves\n",
    "plt.plot(train_X, train_y, 'r+', label='training')\n",
    "plt.plot(train_X, predictions, 'b--', label='fitted')\n",
    "plt.grid(True)\n",
    "plt.legend()\n",
    "plt.show()"
   ]
  },
  {
   "cell_type": "markdown",
   "metadata": {},
   "source": [
    "## Multi-variable Linear Regression"
   ]
  },
  {
   "cell_type": "markdown",
   "metadata": {},
   "source": [
    "### 1), prepare data "
   ]
  },
  {
   "cell_type": "code",
   "execution_count": 69,
   "metadata": {
    "collapsed": true
   },
   "outputs": [],
   "source": [
    "train_data = np.array(pd.read_csv('./ex1data2.txt', header=None), dtype=np.float32)\n",
    "#train_data = expand_feature_poly(train_data)\n",
    "std_normalize(train_data)\n",
    "\n",
    "sample_cnt = train_data.shape[0]\n",
    "feature_cnt = train_data.shape[1] - 1\n",
    "train_X = train_data[:,0:feature_cnt].reshape((sample_cnt, feature_cnt))\n",
    "train_y = train_data[:,feature_cnt:feature_cnt+1].reshape((sample_cnt, 1))"
   ]
  },
  {
   "cell_type": "markdown",
   "metadata": {},
   "source": [
    "### 2), model has already been defined, let's start training"
   ]
  },
  {
   "cell_type": "code",
   "execution_count": 72,
   "metadata": {
    "scrolled": false
   },
   "outputs": [
    {
     "name": "stdout",
     "output_type": "stream",
     "text": [
      "epoch: 100, cost:0.20786905173240472\n",
      "epoch: 200, cost:0.16611848246524843\n",
      "training finished!\n",
      "final cost: 0.16598999306478507\n"
     ]
    },
    {
     "data": {
      "image/png": "[encoded data removed]",
      "text/plain": [
       "<matplotlib.figure.Figure at 0x119e52470>"
      ]
     },
     "metadata": {},
     "output_type": "display_data"
    },
    {
     "data": {
      "image/png": "[encoded data removed]",
      "text/plain": [
       "<matplotlib.figure.Figure at 0x11a35b828>"
      ]
     },
     "metadata": {},
     "output_type": "display_data"
    }
   ],
   "source": [
    "W, b = create_parameters(feature_cnt)\n",
    "\n",
    "# batch learning\n",
    "for epoch in range(0, 200):\n",
    "    h = linear_model(train_X, W, b)\n",
    "    W, b = gd_update(train_X, train_y, h, W, b, lr=0.01)\n",
    "    if (epoch + 1) % 100 == 0:\n",
    "        cur_cost = mse_cost(h, train_y)\n",
    "        print('epoch: {0}, cost:{1}'.format(epoch + 1, cur_cost))\n",
    "\n",
    "# finish\n",
    "predictions = linear_model(train_X, W, b)\n",
    "final_cost = mse_cost(predictions, train_y)\n",
    "print('training finished!')\n",
    "print('final cost: {0}'.format(final_cost))\n",
    "\n",
    "# then plot some curves\n",
    "plt.plot(train_X[:,0], train_y, 'r+', label='feature 1')\n",
    "plt.plot(train_X[:,0], predictions, 'b+', label='fitted')\n",
    "plt.grid(True)\n",
    "plt.legend()\n",
    "plt.show()\n",
    "plt.plot(train_X[:,1], train_y, 'r+', label='feature 2')\n",
    "plt.plot(train_X[:,1], predictions, 'b+', label='fitted')\n",
    "plt.grid(True)\n",
    "plt.legend()\n",
    "plt.show()"
   ]
  },
  {
   "cell_type": "markdown",
   "metadata": {
    "collapsed": true
   },
   "source": [
    "### Play kaggle King County Housing Price data"
   ]
  },
  {
   "cell_type": "markdown",
   "metadata": {},
   "source": [
    "#### 1), prepare data "
   ]
  },
  {
   "cell_type": "code",
   "execution_count": 20,
   "metadata": {
    "collapsed": true
   },
   "outputs": [],
   "source": [
    "df = pd.read_csv('./kc_house_data.csv')\n",
    "df = df.sample(frac=1).reset_index(drop=True)"
   ]
  },
  {
   "cell_type": "code",
   "execution_count": 22,
   "metadata": {
    "scrolled": false
   },
   "outputs": [
    {
     "data": {
      "text/html": [
       "<div>\n",
       "<style>\n",
       "    .dataframe thead tr:only-child th {\n",
       "        text-align: right;\n",
       "    }\n",
       "\n",
       "    .dataframe thead th {\n",
       "        text-align: left;\n",
       "    }\n",
       "\n",
       "    .dataframe tbody tr th {\n",
       "        vertical-align: top;\n",
       "    }\n",
       "</style>\n",
       "<table border=\"1\" class=\"dataframe\">\n",
       "  <thead>\n",
       "    <tr style=\"text-align: right;\">\n",
       "      <th></th>\n",
       "      <th>id</th>\n",
       "      <th>date</th>\n",
       "      <th>price</th>\n",
       "      <th>bedrooms</th>\n",
       "      <th>bathrooms</th>\n",
       "      <th>sqft_living</th>\n",
       "      <th>sqft_lot</th>\n",
       "      <th>floors</th>\n",
       "      <th>waterfront</th>\n",
       "      <th>view</th>\n",
       "      <th>...</th>\n",
       "      <th>grade</th>\n",
       "      <th>sqft_above</th>\n",
       "      <th>sqft_basement</th>\n",
       "      <th>yr_built</th>\n",
       "      <th>yr_renovated</th>\n",
       "      <th>zipcode</th>\n",
       "      <th>lat</th>\n",
       "      <th>long</th>\n",
       "      <th>sqft_living15</th>\n",
       "      <th>sqft_lot15</th>\n",
       "    </tr>\n",
       "  </thead>\n",
       "  <tbody>\n",
       "    <tr>\n",
       "      <th>0</th>\n",
       "      <td>2070100040</td>\n",
       "      <td>20141201T000000</td>\n",
       "      <td>467000.0</td>\n",
       "      <td>3</td>\n",
       "      <td>1.75</td>\n",
       "      <td>2660</td>\n",
       "      <td>5511</td>\n",
       "      <td>1.0</td>\n",
       "      <td>0</td>\n",
       "      <td>0</td>\n",
       "      <td>...</td>\n",
       "      <td>8</td>\n",
       "      <td>1330</td>\n",
       "      <td>1330</td>\n",
       "      <td>1948</td>\n",
       "      <td>0</td>\n",
       "      <td>98108</td>\n",
       "      <td>47.5575</td>\n",
       "      <td>-122.300</td>\n",
       "      <td>2030</td>\n",
       "      <td>6111</td>\n",
       "    </tr>\n",
       "    <tr>\n",
       "      <th>1</th>\n",
       "      <td>2887950020</td>\n",
       "      <td>20140625T000000</td>\n",
       "      <td>280000.0</td>\n",
       "      <td>7</td>\n",
       "      <td>2.50</td>\n",
       "      <td>1940</td>\n",
       "      <td>5458</td>\n",
       "      <td>2.0</td>\n",
       "      <td>0</td>\n",
       "      <td>0</td>\n",
       "      <td>...</td>\n",
       "      <td>7</td>\n",
       "      <td>1940</td>\n",
       "      <td>0</td>\n",
       "      <td>1994</td>\n",
       "      <td>0</td>\n",
       "      <td>98092</td>\n",
       "      <td>47.3191</td>\n",
       "      <td>-122.177</td>\n",
       "      <td>1710</td>\n",
       "      <td>5688</td>\n",
       "    </tr>\n",
       "    <tr>\n",
       "      <th>2</th>\n",
       "      <td>2741100800</td>\n",
       "      <td>20140708T000000</td>\n",
       "      <td>315000.0</td>\n",
       "      <td>2</td>\n",
       "      <td>1.00</td>\n",
       "      <td>1080</td>\n",
       "      <td>2674</td>\n",
       "      <td>1.0</td>\n",
       "      <td>0</td>\n",
       "      <td>0</td>\n",
       "      <td>...</td>\n",
       "      <td>6</td>\n",
       "      <td>720</td>\n",
       "      <td>360</td>\n",
       "      <td>1919</td>\n",
       "      <td>0</td>\n",
       "      <td>98108</td>\n",
       "      <td>47.5595</td>\n",
       "      <td>-122.317</td>\n",
       "      <td>1250</td>\n",
       "      <td>5000</td>\n",
       "    </tr>\n",
       "    <tr>\n",
       "      <th>3</th>\n",
       "      <td>1473120190</td>\n",
       "      <td>20140530T000000</td>\n",
       "      <td>386000.0</td>\n",
       "      <td>3</td>\n",
       "      <td>2.00</td>\n",
       "      <td>2120</td>\n",
       "      <td>7560</td>\n",
       "      <td>1.0</td>\n",
       "      <td>0</td>\n",
       "      <td>0</td>\n",
       "      <td>...</td>\n",
       "      <td>9</td>\n",
       "      <td>2120</td>\n",
       "      <td>0</td>\n",
       "      <td>1991</td>\n",
       "      <td>0</td>\n",
       "      <td>98058</td>\n",
       "      <td>47.4350</td>\n",
       "      <td>-122.160</td>\n",
       "      <td>2660</td>\n",
       "      <td>7700</td>\n",
       "    </tr>\n",
       "    <tr>\n",
       "      <th>4</th>\n",
       "      <td>3438501450</td>\n",
       "      <td>20150507T000000</td>\n",
       "      <td>382000.0</td>\n",
       "      <td>2</td>\n",
       "      <td>1.00</td>\n",
       "      <td>870</td>\n",
       "      <td>10492</td>\n",
       "      <td>1.0</td>\n",
       "      <td>0</td>\n",
       "      <td>0</td>\n",
       "      <td>...</td>\n",
       "      <td>7</td>\n",
       "      <td>870</td>\n",
       "      <td>0</td>\n",
       "      <td>1937</td>\n",
       "      <td>0</td>\n",
       "      <td>98106</td>\n",
       "      <td>47.5467</td>\n",
       "      <td>-122.365</td>\n",
       "      <td>1300</td>\n",
       "      <td>7987</td>\n",
       "    </tr>\n",
       "  </tbody>\n",
       "</table>\n",
       "<p>5 rows × 21 columns</p>\n",
       "</div>"
      ],
      "text/plain": [
       "           id             date     price  bedrooms  bathrooms  sqft_living  \\\n",
       "0  2070100040  20141201T000000  467000.0         3       1.75         2660   \n",
       "1  2887950020  20140625T000000  280000.0         7       2.50         1940   \n",
       "2  2741100800  20140708T000000  315000.0         2       1.00         1080   \n",
       "3  1473120190  20140530T000000  386000.0         3       2.00         2120   \n",
       "4  3438501450  20150507T000000  382000.0         2       1.00          870   \n",
       "\n",
       "   sqft_lot  floors  waterfront  view     ...      grade  sqft_above  \\\n",
       "0      5511     1.0           0     0     ...          8        1330   \n",
       "1      5458     2.0           0     0     ...          7        1940   \n",
       "2      2674     1.0           0     0     ...          6         720   \n",
       "3      7560     1.0           0     0     ...          9        2120   \n",
       "4     10492     1.0           0     0     ...          7         870   \n",
       "\n",
       "   sqft_basement  yr_built  yr_renovated  zipcode      lat     long  \\\n",
       "0           1330      1948             0    98108  47.5575 -122.300   \n",
       "1              0      1994             0    98092  47.3191 -122.177   \n",
       "2            360      1919             0    98108  47.5595 -122.317   \n",
       "3              0      1991             0    98058  47.4350 -122.160   \n",
       "4              0      1937             0    98106  47.5467 -122.365   \n",
       "\n",
       "   sqft_living15  sqft_lot15  \n",
       "0           2030        6111  \n",
       "1           1710        5688  \n",
       "2           1250        5000  \n",
       "3           2660        7700  \n",
       "4           1300        7987  \n",
       "\n",
       "[5 rows x 21 columns]"
      ]
     },
     "execution_count": 22,
     "metadata": {},
     "output_type": "execute_result"
    }
   ],
   "source": [
    "df.head()"
   ]
  },
  {
   "cell_type": "code",
   "execution_count": null,
   "metadata": {
    "collapsed": true
   },
   "outputs": [],
   "source": []
  }
 ],
 "metadata": {
  "kernelspec": {
   "display_name": "Python 3",
   "language": "python",
   "name": "python3"
  },
  "language_info": {
   "codemirror_mode": {
    "name": "ipython",
    "version": 3
   },
   "file_extension": ".py",
   "mimetype": "text/x-python",
   "name": "python",
   "nbconvert_exporter": "python",
   "pygments_lexer": "ipython3",
   "version": "3.6.1"
  }
 },
 "nbformat": 4,
 "nbformat_minor": 2
}
