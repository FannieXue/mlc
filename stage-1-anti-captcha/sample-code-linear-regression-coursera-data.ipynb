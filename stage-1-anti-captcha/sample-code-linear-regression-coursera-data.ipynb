{
 "cells": [
  {
   "cell_type": "markdown",
   "metadata": {},
   "source": [
    "## Sample code of linear regression with coursera training data\n",
    "\n",
    "Author: hdup  \n",
    "Email: [huangdan@youhujia.com](huangdan@youhujia.com)"
   ]
  },
  {
   "cell_type": "code",
   "execution_count": 1,
   "metadata": {
    "collapsed": true
   },
   "outputs": [],
   "source": [
    "import pandas as pd\n",
    "import numpy as np\n",
    "import matplotlib.pyplot as plt\n",
    "from sklearn.manifold import TSNE\n",
    "\n",
    "%matplotlib inline"
   ]
  },
  {
   "cell_type": "markdown",
   "metadata": {},
   "source": [
    "## Uni-variable Linear Regression"
   ]
  },
  {
   "cell_type": "markdown",
   "metadata": {},
   "source": [
    "### 1), prepare data"
   ]
  },
  {
   "cell_type": "code",
   "execution_count": 2,
   "metadata": {
    "collapsed": true
   },
   "outputs": [],
   "source": [
    "train_data = np.array(pd.read_csv('./ex1data1.txt', header=None))\n",
    "train_X = train_data[:,0].reshape((train_data.shape[0], 1))\n",
    "train_y = train_data[:,1].reshape((train_data.shape[0], 1))\n",
    "feature_cnt = train_X.shape[1]\n",
    "sample_cnt = train_X.shape[0]"
   ]
  },
  {
   "cell_type": "markdown",
   "metadata": {},
   "source": [
    "### 2), define model "
   ]
  },
  {
   "cell_type": "code",
   "execution_count": 52,
   "metadata": {
    "collapsed": true
   },
   "outputs": [],
   "source": [
    "def linear_model(X, W, b):\n",
    "    return np.matmul(X ,W) + b\n",
    "\n",
    "def mse_cost(h, y):\n",
    "    diff = h - y\n",
    "    return (diff * diff).sum() / (2 * y.shape[0])\n",
    "\n",
    "def mse_cost_dev(X, y, h):\n",
    "    diff = h - y\n",
    "    return ((diff * X).sum() / X.shape[0]), (diff.sum() / X.shape[0])\n",
    "\n",
    "def gd_update(X, y, h, W, b, lr=0.01):\n",
    "    d_W, d_b = mse_cost_dev(X, y, h)\n",
    "    return (W - lr * d_W), (b - lr * d_b)\n",
    "\n",
    "def create_parameters(feature_size):\n",
    "    param_W = np.array([np.random.randn() for i in range(0, feature_size)]).reshape((feature_size, 1))\n",
    "    param_b = np.random.randn()\n",
    "    return param_W, param_b\n",
    "\n",
    "def std_normalize(X):\n",
    "    stds = np.std(X, axis=0)\n",
    "    means = np.mean(X, axis=0)\n",
    "    for col in range(0, X.shape[1]):\n",
    "        X[:,col] = (X[:,col] - means[col]) / stds[col]\n",
    "    return stds, means\n",
    "\n",
    "def expand_feature_poly(X):\n",
    "    expanded = np.ndarray((X.shape[0], 8), dtype=np.float32)\n",
    "    expanded[:,0:2] = X[:,0:2]\n",
    "    expanded[:,2] = X[:,0]**2\n",
    "    expanded[:,3] = X[:,1]**2\n",
    "    expanded[:,4] = X[:,0]**3\n",
    "    expanded[:,5] = X[:,1]**3\n",
    "    expanded[:,6] = X[:,0]*X[:,1]\n",
    "    expanded[:,7] = X[:,2]\n",
    "    return expanded"
   ]
  },
  {
   "cell_type": "markdown",
   "metadata": {},
   "source": [
    "### 3), training "
   ]
  },
  {
   "cell_type": "code",
   "execution_count": 4,
   "metadata": {},
   "outputs": [
    {
     "name": "stdout",
     "output_type": "stream",
     "text": [
      "epoch: 100, cost:5.9039196158654486, W:[[ 0.79602254]], b:0.05611793599001005\n",
      "epoch: 200, cost:5.471679005593078, W:[[ 0.86156209]], b:-0.5962710166654538\n",
      "epoch: 300, cost:5.170369525088244, W:[[ 0.91628221]], b:-1.1409620333295882\n",
      "epoch: 400, cost:4.960330484599003, W:[[ 0.961969]], b:-1.5957341480733733\n",
      "epoch: 500, cost:4.813914917270268, W:[[ 1.00011371]], b:-1.9754313893004336\n",
      "epoch: 600, cost:4.711850471030843, W:[[ 1.03196139]], b:-2.292447297535406\n",
      "epoch: 700, cost:4.6407026322032126, W:[[ 1.05855159]], b:-2.5571294578515142\n",
      "epoch: 800, cost:4.591106370661091, W:[[ 1.08075221]], b:-2.7781172511129033\n",
      "epoch: 900, cost:4.556533441960982, W:[[ 1.0992879]], b:-2.9626238484302845\n",
      "epoch: 1000, cost:4.532433089197746, W:[[ 1.11476367]], b:-3.1166716532942034\n",
      "training finished!\n",
      "final cost: 4.532233319307363, W: [[ 1.11476367]], b: -3.1166716532942034\n"
     ]
    },
    {
     "data": {
      "image/png": "[encoded data removed]",
      "text/plain": [
       "<matplotlib.figure.Figure at 0x1164945f8>"
      ]
     },
     "metadata": {},
     "output_type": "display_data"
    }
   ],
   "source": [
    "W, b = create_parameters(feature_cnt)\n",
    "\n",
    "# batch learning\n",
    "for epoch in range(0, 1000):\n",
    "    h = linear_model(train_X, W, b)\n",
    "    W, b = gd_update(train_X, train_y, h, W, b, lr=0.01)\n",
    "    if (epoch + 1) % 100 == 0:\n",
    "        cur_cost = mse_cost(h, train_y)\n",
    "        print('epoch: {0}, cost:{1}, W:{2}, b:{3}'.format(epoch + 1, cur_cost, W, b))\n",
    "\n",
    "# finish\n",
    "predictions = linear_model(train_X, W, b)\n",
    "final_cost = mse_cost(predictions, train_y)\n",
    "print('training finished!')\n",
    "print('final cost: {0}, W: {1}, b: {2}'.format(final_cost, W, b))\n",
    "\n",
    "# then plot some curves\n",
    "plt.plot(train_X, train_y, 'r+', label='training')\n",
    "plt.plot(train_X, predictions, 'b--', label='fitted')\n",
    "plt.grid(True)\n",
    "plt.legend()\n",
    "plt.show()"
   ]
  },
  {
   "cell_type": "markdown",
   "metadata": {},
   "source": [
    "## Multi-variable Linear Regression"
   ]
  },
  {
   "cell_type": "markdown",
   "metadata": {},
   "source": [
    "### 1), prepare data "
   ]
  },
  {
   "cell_type": "code",
   "execution_count": 69,
   "metadata": {},
   "outputs": [],
   "source": [
    "train_data = np.array(pd.read_csv('./ex1data2.txt', header=None), dtype=np.float32)\n",
    "#train_data = expand_feature_poly(train_data)\n",
    "std_normalize(train_data)\n",
    "\n",
    "sample_cnt = train_data.shape[0]\n",
    "feature_cnt = train_data.shape[1] - 1\n",
    "train_X = train_data[:,0:feature_cnt].reshape((sample_cnt, feature_cnt))\n",
    "train_y = train_data[:,feature_cnt:feature_cnt+1].reshape((sample_cnt, 1))"
   ]
  },
  {
   "cell_type": "markdown",
   "metadata": {},
   "source": [
    "### 2), model has already been defined, let's start training"
   ]
  },
  {
   "cell_type": "code",
   "execution_count": 72,
   "metadata": {
    "scrolled": false
   },
   "outputs": [
    {
     "name": "stdout",
     "output_type": "stream",
     "text": [
      "epoch: 100, cost:0.20786905173240472\n",
      "epoch: 200, cost:0.16611848246524843\n",
      "training finished!\n",
      "final cost: 0.16598999306478507\n"
     ]
    },
    {
     "data": {
      "image/png": "[encoded data removed]",
      "text/plain": [
       "<matplotlib.figure.Figure at 0x119e52470>"
      ]
     },
     "metadata": {},
     "output_type": "display_data"
    },
    {
     "data": {
      "image/png": "[encoded data removed]",
      "text/plain": [
       "<matplotlib.figure.Figure at 0x11a35b828>"
      ]
     },
     "metadata": {},
     "output_type": "display_data"
    }
   ],
   "source": [
    "W, b = create_parameters(feature_cnt)\n",
    "\n",
    "# batch learning\n",
    "for epoch in range(0, 200):\n",
    "    h = linear_model(train_X, W, b)\n",
    "    W, b = gd_update(train_X, train_y, h, W, b, lr=0.01)\n",
    "    if (epoch + 1) % 100 == 0:\n",
    "        cur_cost = mse_cost(h, train_y)\n",
    "        print('epoch: {0}, cost:{1}'.format(epoch + 1, cur_cost))\n",
    "\n",
    "# finish\n",
    "predictions = linear_model(train_X, W, b)\n",
    "final_cost = mse_cost(predictions, train_y)\n",
    "print('training finished!')\n",
    "print('final cost: {0}'.format(final_cost))\n",
    "\n",
    "# then plot some curves\n",
    "plt.plot(train_X[:,0], train_y, 'r+', label='feature 1')\n",
    "plt.plot(train_X[:,0], predictions, 'b+', label='fitted')\n",
    "plt.grid(True)\n",
    "plt.legend()\n",
    "plt.show()\n",
    "plt.plot(train_X[:,1], train_y, 'r+', label='feature 2')\n",
    "plt.plot(train_X[:,1], predictions, 'b+', label='fitted')\n",
    "plt.grid(True)\n",
    "plt.legend()\n",
    "plt.show()"
   ]
  },
  {
   "cell_type": "code",
   "execution_count": null,
   "metadata": {
    "collapsed": true
   },
   "outputs": [],
   "source": []
  }
 ],
 "metadata": {
  "kernelspec": {
   "display_name": "Python 3",
   "language": "python",
   "name": "python3"
  },
  "language_info": {
   "codemirror_mode": {
    "name": "ipython",
    "version": 3
   },
   "file_extension": ".py",
   "mimetype": "text/x-python",
   "name": "python",
   "nbconvert_exporter": "python",
   "pygments_lexer": "ipython3",
   "version": "3.6.1"
  }
 },
 "nbformat": 4,
 "nbformat_minor": 2
}
